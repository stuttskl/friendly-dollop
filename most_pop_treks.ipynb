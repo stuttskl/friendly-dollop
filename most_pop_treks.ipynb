import matplotlib.pyplot as plt

# Data
titles = [
    "Sleep 'Hacking'",
    "Consent",
    "Anxiety",
    "Mindfulness",
    "Testicular Self-Exam Exercise",
    "Sexual Dysfunction",
    "Depression",
    "FAQ - Dr. Michael Mahgerefteh",
    "Trauma",
    "Sexual Dysfunction Exercise",
    "Mini-TREK: Challenging Conversations",
    "Low Testosterone",
    "Attacking Depression",
    "FAQ - Donny Starkins",
    "Sexual Performance",
    "FAQ - Dr. Hernando Chavez",
    "Building a Sleep Plan",
    "Alcohol Misuse and Moderation",
    "Exercise",
    "Finding Your Career Purpose",
    "Meditation Practice",
    "FAQ - Dr. Justin Houman",
    "Why Mental Health",
    "Qualities of a Mindful Leader",
    "FAQ - Dr. Chris Winter",
    "Why Meditation",
    "Career Blueprinting",
    "Alcohol Modification Exercise"
]

click_counts = [
    19, 18, 14, 6, 9, 9, 7, 4, 5, 5, 4, 3, 3, 3, 3, 1, 2, 2, 2, 2, 2, 2, 2, 1, 1, 1, 1, 1
]

# Specify distinct colors for each bar
colors = ['#1f77b4', '#ff7f0e', '#2ca02c', '#d62728', '#9467bd', '#8c564b', '#e377c2', '#7f7f7f', '#bcbd22', '#17becf', 
          '#aec7e8', '#ffbb78', '#98df8a', '#ff9896', '#c5b0d5', '#c49c94', '#f7b6d2', '#c7c7c7', '#dbdb8d', '#9edae5', 
          '#ff9896', '#98df8a', '#ffbb78', '#ff7f0e', '#2ca02c', '#c49c94', '#1f77b4', '#17becf']

# Create bar chart
plt.figure(figsize=(10, 8))
bars = plt.barh(titles, click_counts, color=colors)

# Add annotations to each bar
for bar in bars:
    plt.text(bar.get_width() + 0.2, bar.get_y() + bar.get_height()/2, f'{bar.get_width():.0f}', 
             va='center', ha='left')
    
plt.xlabel('Clicks')
plt.ylabel('TREK Title')
plt.title('Most Popular TREKs, March 5 - March 28, 2024')
plt.gca().invert_yaxis()  # Invert y-axis to display the highest count at the top
plt.tight_layout()

# Show plot
plt.show()

